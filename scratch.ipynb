{
 "cells": [
  {
   "cell_type": "markdown",
   "metadata": {},
   "source": [
    "# Set up the Overall environment\n",
    "Import the libraries and grab data from the .env file"
   ]
  },
  {
   "cell_type": "code",
   "execution_count": 1,
   "metadata": {},
   "outputs": [],
   "source": [
    "import eland as ed\n",
    "from dotenv import load_dotenv\n",
    "import os \n",
    "from os import environ\n",
    "from langchain.prompts import PromptTemplate\n",
    "from langchain.llms import OpenAI\n",
    "from langchain.chains import LLMChain\n",
    "from common.environment import create_new_es_index\n",
    "from langchain.vectorstores.elasticsearch import ElasticsearchStore\n",
    "from langchain.embeddings.openai import OpenAIEmbeddings\n",
    "# from langchain.vectorstores import ElasticsearchStore\n",
    "from langchain.document_loaders import TextLoader\n",
    "from langchain.text_splitter import CharacterTextSplitter\n",
    "\n",
    "from langchain.agents.agent_toolkits import (\n",
    "    create_vectorstore_agent,\n",
    "    VectorStoreToolkit,\n",
    "    VectorStoreInfo,\n",
    ")\n",
    "\n",
    "#load the .env file\n",
    "load_dotenv()\n",
    "\n",
    "# create some useful variables that will be used again and again\n",
    "es_url = f\"https://{os.environ['elasticsearch_user']}:{os.environ['elasticsearch_pw']}@{os.environ['elasticsearch_host']}:{os.environ['elasticsearch_port']}\"\n",
    "es_index= os.environ['elasticsearch_index']\n",
    "os.environ['OPENAI_API_KEY'] = os.environ['openai_api_key']\n",
    "open_api_key=os.environ['OPENAI_API_KEY']\n"
   ]
  },
  {
   "cell_type": "markdown",
   "metadata": {},
   "source": [
    "# Set up data environment"
   ]
  },
  {
   "cell_type": "code",
   "execution_count": 2,
   "metadata": {},
   "outputs": [],
   "source": [
    "# declare embeddings to be used\n",
    "embeddings= OpenAIEmbeddings()\n",
    "\n",
    "# create the elasticsearch index to be used \n",
    "create_new_es_index(index_name=es_index, es_url=es_url, delete_index=True)\n",
    "\n",
    "# create the connection to the vector store that will be used for queries.\n",
    "state_of_union_store = ElasticsearchStore(\n",
    "    es_url=es_url,\n",
    "    index_name=es_index,\n",
    "    embedding=embeddings,\n",
    "    distance_strategy=\"DOT_PRODUCT\",\n",
    ")"
   ]
  },
  {
   "cell_type": "markdown",
   "metadata": {},
   "source": [
    "# Set up the vector store.\n",
    "Multiple steps -\n",
    "1. Load the files into documents.\n",
    "2. Split the doucments into chunks.\n",
    "3. Load the chunks into Elasticsearch."
   ]
  },
  {
   "cell_type": "code",
   "execution_count": 33,
   "metadata": {},
   "outputs": [
    {
     "data": {
      "text/plain": [
       "{'source': 'state_of_the_union.txt'}"
      ]
     },
     "execution_count": 33,
     "metadata": {},
     "output_type": "execute_result"
    }
   ],
   "source": [
    "# split and create documents\n",
    "loader = TextLoader(\"state_of_the_union.txt\")\n",
    "documents = loader.load()\n",
    "text_splitter = CharacterTextSplitter(chunk_size=500, chunk_overlap=0)\n",
    "docs = text_splitter.split_documents(documents)\n",
    "\n",
    "# load documents into Elasticsearch\n",
    "db = ElasticsearchStore.from_documents(\n",
    "    docs, embeddings, es_url=es_url, index_name=es_index,\n",
    ")\n",
    "\n",
    "# make sure documents are available\n",
    "db.client.indices.refresh(index=es_index)"
   ]
  },
  {
   "cell_type": "code",
   "execution_count": 3,
   "metadata": {},
   "outputs": [
    {
     "data": {
      "text/plain": [
       "ObjectApiResponse({'_shards': {'total': 2, 'successful': 2, 'failed': 0}})"
      ]
     },
     "execution_count": 3,
     "metadata": {},
     "output_type": "execute_result"
    }
   ],
   "source": [
    "# split and create documents\n",
    "from langchain.document_loaders.csv_loader import CSVLoader\n",
    "from langchain.text_splitter import RecursiveCharacterTextSplitter\n",
    "\n",
    "csv_doc = None\n",
    "csv_fn = 'elastic-products.csv'\n",
    "\n",
    "# csv_loader = CSVLoader(\"elastic-products.csv\", csv_args={\n",
    "#     'delimiter': ',',\n",
    "#     'quotechar': '\"',\n",
    "#     'fieldnames': ['Product Name', \"Description\"]\n",
    "# })\n",
    "# csv_documents = csv_loader.load()\n",
    "\n",
    "with open(csv_fn) as f:\n",
    "    csv_doc = f.read()\n",
    "\n",
    "csv_splitter = RecursiveCharacterTextSplitter(chunk_size=100, \n",
    "                                              chunk_overlap=20, \n",
    "                                              length_function=len, \n",
    "                                              is_separator_regex=False)\n",
    "csv_entries = csv_splitter.create_documents([csv_doc])\n",
    "\n",
    "\n",
    "# add the source for each line\n",
    "[setattr(entry, 'metadata', {'source': csv_fn}) for entry in csv_entries]\n",
    "\n",
    "# load documents into Elasticsearch\n",
    "db = ElasticsearchStore.from_documents(\n",
    "    csv_entries, embeddings, es_url=es_url, index_name=es_index,\n",
    ")\n",
    "\n",
    "# make sure documents are available\n",
    "db.client.indices.refresh(index=es_index)"
   ]
  },
  {
   "cell_type": "markdown",
   "metadata": {},
   "source": [
    "# Create the Agent"
   ]
  },
  {
   "cell_type": "code",
   "execution_count": 4,
   "metadata": {},
   "outputs": [],
   "source": [
    "# make a connection to the LLM\n",
    "llm = OpenAI(temperature=0)\n",
    "\n",
    "# Set up the information about the vector store\n",
    "vectorstore_info = VectorStoreInfo(\n",
    "    name=\"state_of_union_address\",\n",
    "    description=\"the most recent state of the Union adress\",\n",
    "    vectorstore=state_of_union_store,\n",
    "    open_api_key=open_api_key,\n",
    ")\n",
    "\n",
    "# create a toolkit for the agent to use\n",
    "toolkit = VectorStoreToolkit(vectorstore_info=vectorstore_info)\n",
    "# create the agent itself\n",
    "agent_executor = create_vectorstore_agent(llm=llm, toolkit=toolkit, verbose=True)\n"
   ]
  },
  {
   "cell_type": "markdown",
   "metadata": {},
   "source": [
    "# Ask the question of the vector store"
   ]
  },
  {
   "cell_type": "code",
   "execution_count": 6,
   "metadata": {},
   "outputs": [
    {
     "name": "stdout",
     "output_type": "stream",
     "text": [
      "\n",
      "\n",
      "\u001b[1m> Entering new AgentExecutor chain...\u001b[0m\n",
      "\u001b[32;1m\u001b[1;3m I need to find a source that lists products from Elastic.\n",
      "Action: state_of_union_address\n",
      "Action Input: What products does Elastic offer?\u001b[0m\n",
      "Observation: \u001b[36;1m\u001b[1;3m Elastic offers Elastic Drone, Elastic Atlas, and Elastic Cloud.\u001b[0m\n",
      "Thought:\u001b[32;1m\u001b[1;3m I need to find more products.\n",
      "Action: state_of_union_address_with_sources\n",
      "Action Input: What other products does Elastic offer?\u001b[0m\n",
      "Observation: \u001b[33;1m\u001b[1;3m{\"answer\": \" Elastic offers Elastic Cloud, Elastic Drone, and Elastic Atlas.\\n\", \"sources\": \"elastic-products.csv\"}\u001b[0m\n",
      "Thought:\u001b[32;1m\u001b[1;3m I now know the final answer.\n",
      "Final Answer: Elastic offers Elastic Cloud, Elastic Drone, Elastic Atlas, Elastic Stack, Elastic App Search, Elastic Site Search, Elastic Enterprise Search, Elastic Observability, Elastic Security, and Elastic Workplace Search.\u001b[0m\n",
      "\n",
      "\u001b[1m> Finished chain.\u001b[0m\n"
     ]
    },
    {
     "data": {
      "text/plain": [
       "'Elastic offers Elastic Cloud, Elastic Drone, Elastic Atlas, Elastic Stack, Elastic App Search, Elastic Site Search, Elastic Enterprise Search, Elastic Observability, Elastic Security, and Elastic Workplace Search.'"
      ]
     },
     "execution_count": 6,
     "metadata": {},
     "output_type": "execute_result"
    }
   ],
   "source": [
    "agent_executor.run(\n",
    "    \"Name at least 10 products from Elastic.\"\n",
    ")"
   ]
  },
  {
   "cell_type": "code",
   "execution_count": 14,
   "metadata": {},
   "outputs": [
    {
     "name": "stdout",
     "output_type": "stream",
     "text": [
      "\n",
      "\n",
      "\u001b[1m> Entering new AgentExecutor chain...\u001b[0m\n",
      "\u001b[32;1m\u001b[1;3m I need to find the answer in the state of the union address\n",
      "Action: state_of_union_address\n",
      "Action Input: What did biden say about ketanji brown jackson\u001b[0m\n",
      "Observation: \u001b[36;1m\u001b[1;3m Biden said that Ketanji Brown Jackson is one of the nation's top legal minds and will continue Justice Breyer's legacy of excellence.\u001b[0m\n",
      "Thought:\u001b[32;1m\u001b[1;3m I now know the final answer\n",
      "Final Answer: Biden said that Ketanji Brown Jackson is one of the nation's top legal minds and will continue Justice Breyer's legacy of excellence.\u001b[0m\n",
      "\n",
      "\u001b[1m> Finished chain.\u001b[0m\n"
     ]
    },
    {
     "data": {
      "text/plain": [
       "\"Biden said that Ketanji Brown Jackson is one of the nation's top legal minds and will continue Justice Breyer's legacy of excellence.\""
      ]
     },
     "execution_count": 14,
     "metadata": {},
     "output_type": "execute_result"
    }
   ],
   "source": [
    "agent_executor.run(\n",
    "    \"What did biden say about ketanji brown jackson in the state of the union address?\"\n",
    ")"
   ]
  },
  {
   "cell_type": "code",
   "execution_count": 8,
   "metadata": {},
   "outputs": [
    {
     "name": "stdout",
     "output_type": "stream",
     "text": [
      "Requirement already satisfied: tiktoken in ./.venv/lib/python3.11/site-packages (0.4.0)\n",
      "Requirement already satisfied: regex>=2022.1.18 in ./.venv/lib/python3.11/site-packages (from tiktoken) (2023.6.3)\n",
      "Requirement already satisfied: requests>=2.26.0 in ./.venv/lib/python3.11/site-packages (from tiktoken) (2.31.0)\n",
      "Requirement already satisfied: charset-normalizer<4,>=2 in ./.venv/lib/python3.11/site-packages (from requests>=2.26.0->tiktoken) (3.1.0)\n",
      "Requirement already satisfied: idna<4,>=2.5 in ./.venv/lib/python3.11/site-packages (from requests>=2.26.0->tiktoken) (3.4)\n",
      "Requirement already satisfied: urllib3<3,>=1.21.1 in ./.venv/lib/python3.11/site-packages (from requests>=2.26.0->tiktoken) (1.26.16)\n",
      "Requirement already satisfied: certifi>=2017.4.17 in ./.venv/lib/python3.11/site-packages (from requests>=2.26.0->tiktoken) (2023.5.7)\n"
     ]
    }
   ],
   "source": []
  },
  {
   "cell_type": "code",
   "execution_count": null,
   "metadata": {},
   "outputs": [],
   "source": []
  }
 ],
 "metadata": {
  "kernelspec": {
   "display_name": ".venv",
   "language": "python",
   "name": "python3"
  },
  "language_info": {
   "codemirror_mode": {
    "name": "ipython",
    "version": 3
   },
   "file_extension": ".py",
   "mimetype": "text/x-python",
   "name": "python",
   "nbconvert_exporter": "python",
   "pygments_lexer": "ipython3",
   "version": "3.11.3"
  },
  "orig_nbformat": 4
 },
 "nbformat": 4,
 "nbformat_minor": 2
}
